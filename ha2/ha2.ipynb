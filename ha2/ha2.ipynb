{
  "nbformat": 4,
  "nbformat_minor": 0,
  "metadata": {
    "kernelspec": {
      "display_name": "Python 3",
      "language": "python",
      "name": "python3"
    },
    "language_info": {
      "codemirror_mode": {
        "name": "ipython",
        "version": 3
      },
      "file_extension": ".py",
      "mimetype": "text/x-python",
      "name": "python",
      "nbconvert_exporter": "python",
      "pygments_lexer": "ipython3",
      "version": "3.6.8"
    },
    "colab": {
      "name": "ha2_my.ipynb",
      "provenance": []
    }
  },
  "cells": [
    {
      "cell_type": "code",
      "metadata": {
        "id": "G-c9lLN1CIAh",
        "colab_type": "code",
        "colab": {}
      },
      "source": [
        "import sympy as sp\n",
        "import numpy as np\n",
        "import matplotlib.pyplot as plt"
      ],
      "execution_count": 0,
      "outputs": []
    },
    {
      "cell_type": "markdown",
      "metadata": {
        "id": "WuNbLTTxCIAk",
        "colab_type": "text"
      },
      "source": [
        "### 1. Formulate the statement of the interpolation problem with Cubic Spline [mathematical formula]"
      ]
    },
    {
      "cell_type": "markdown",
      "metadata": {
        "id": "a9rKOF5OCLyM",
        "colab_type": "text"
      },
      "source": [
        "Natural Cubic Spline — is a piece-wise cubic polynomial that is twice continuously differentiable. Given a set of n + 1 data points ($x_i,y_i$) where no two $x_i$ are the same and $a = x_0 < x_1 ... < x_N = b$, the spline $S(x)$ is a function satisfying:\n",
        "$S(x)\\in C^2[a,b]$;\n",
        "$S(x)$ is a polynomial of degree 3 on each subinterval $[x_{i-1},x_{i}]$, where $i=1,\\cdots,n.$\n",
        "$S(x_i)=y_i,$ for all $i=0,1,\\cdots,n.$\n",
        "\n",
        "Let us assume that\n",
        "\n",
        "$S(x)=\\left\\{\\begin{array}{rl}\n",
        "C_1(x), & x_0 \\leq x \\leq x_1\\\\\n",
        "\\cdots &\\\\\n",
        "C_i(x), & x_{i-1} < x \\leq x_i\\\\\n",
        "\\cdots &\\\\\n",
        "C_n(x), & x_{n-1} < x \\leq x_n\\end{array}\\right.$\n",
        "\n",
        "where each $C_i=a_i+b_ix+c_ix^2+d_ix^3 (d_i \\neq 0)$ is a cubic function, $i=1,\\cdots,n$. \n",
        "\n",
        "Also $S(x)$ satisfies border conditions $S''(a) = S''(b) = 0$\n",
        "\n",
        "\n",
        "\n",
        "\n",
        "\n",
        "\n",
        "\n",
        "\n",
        "\n"
      ]
    },
    {
      "cell_type": "markdown",
      "metadata": {
        "id": "2zF7kXR8CIAn",
        "colab_type": "text"
      },
      "source": [
        "### 2. Formulate the functional and differential compatibility conditions [mathematical formula]"
      ]
    },
    {
      "cell_type": "markdown",
      "metadata": {
        "id": "v7H9gpqP5Evf",
        "colab_type": "text"
      },
      "source": [
        "Functional:\n",
        "\n",
        "$\\delta S_{3,i}(x)|_{x=x_i}=S_{3,i}(x_i)-f(x_i)=0$\n",
        "\n",
        "$\\delta S_{3,i}(x)|_{x=x_i+1}=S_{3,i}(x_{i+1})-f(x_{i+1})=0$\n",
        "\n",
        "Differential:\n",
        "\n",
        "$\\delta S''_{3,i}(x)|_{x=x_i}=S''_{3,i}(x_i)-f''(x_i)=0$\n",
        "\n",
        "$\\delta S''_{3,i}(x)|_{x=x_i+1}=S''_{3,i}(x_{i+1})-f''(x_{i+1})=0$"
      ]
    },
    {
      "cell_type": "markdown",
      "metadata": {
        "id": "UGy6FpGWCIAr",
        "colab_type": "text"
      },
      "source": [
        "### 3. Formulate stitching conditions [mathematical formula]"
      ]
    },
    {
      "cell_type": "markdown",
      "metadata": {
        "id": "rLqK8U8Q5J90",
        "colab_type": "text"
      },
      "source": [
        "$S_{m,i-1}^{(p2)}(x)\\mid_{x=x_i}=S_{m,i}^{(p2)}(x)\\mid_{x=x_i},i=\\overline{1..n-1}$"
      ]
    },
    {
      "cell_type": "markdown",
      "metadata": {
        "id": "jFoPLKMACIAu",
        "colab_type": "text"
      },
      "source": [
        "### 4. Justify why these conditions provide you with the required smoothness [thesis text, no more than 500 characters]"
      ]
    },
    {
      "cell_type": "markdown",
      "metadata": {
        "id": "-1sZEL4n8lw_",
        "colab_type": "text"
      },
      "source": [
        "- Stiching conditions guarantee that the resulting function is continuous.\n",
        "- Differential compatibility conditions guarantee that the resulting function is differentiable up to some $p$, which is equal to 2 in case of Cubic Spline.\n",
        "- Functional compatibility condition guarantee that the resulting function solves the interpolation problem and passes through all grid points."
      ]
    },
    {
      "cell_type": "markdown",
      "metadata": {
        "id": "3QbyiPZ-CIAx",
        "colab_type": "text"
      },
      "source": [
        "### 5. Derive dependency formula: the dependence of the second derivatives at the grid nodes on the increment of the function (the function values difference on the grid nodes). [Mathematical formulas derivation. Detailed, with clear transitions]"
      ]
    },
    {
      "cell_type": "markdown",
      "metadata": {
        "id": "_TwI3Ysf_cT_",
        "colab_type": "text"
      },
      "source": [
        "For algebraic polynomial: \n",
        "$$S_{3,i}(x)=a_{0,i}+a_{1,i}(x-x_i)+a_{2,i}(x-x_i)^2+a_{3,i}(x-x_i)^3$$ find $$a_{0, i}, a_{1, i}, a_{2, i}, a_{3, i}$$\n",
        "\n",
        "Second derivitive is: $$S''_{3,i}(x)=2a_{2,i}+6a_{3,i}x-6a_{3,i}x_i$$\n",
        "\n",
        "$$h_{i+1}=x_{i+1}-x_i, \\Delta f_i=f_{i+1}-f_i, m_i=f''(x_i), \\Delta m_i=m_{i+1}-m_i$$\n",
        "\n",
        "From functional conditions (from 2 question):\n",
        "$$S_{3,i}(x_i)-f(x_i)=0$, so $a_{0,i}=f(x_i)=f_i$$\n",
        "\n",
        "From differential compability conditions for $p = {0,2}$ (from 2 question):\n",
        "\n",
        "$$2a_{2,i}+6a_{3,i}x-6a_{3,i}x_i = f''(x_i)$$\n",
        "\n",
        "$$2a_{2,i}=m_i$$\n",
        "\n",
        "$$a_{2,i}=\\frac{m_i}{2}$$\n",
        "\n",
        "$$S_{3,i}(x_i)-f(x_i)=0$, so $a_{0,i}=f(x_i)=f_i$$\n",
        "\n",
        "In $S''_{3,i}(x_{i+1})-f''(x_i)=0$ substitute $a_{2,i}$):\n",
        "\n",
        "$$f''(x_{i+1}) = m_i+6a_{3+i}x_{i+1}-6a_{3,i}x_i$$\n",
        "\n",
        "$$m_i+6a_{3,i}h_{i+1}=m_{i+1}$$\n",
        "\n",
        "$$a_{3,i}=\\frac{ \\Delta m_i}{6h_{i+1}}$$\n",
        "\n",
        "In $S_{3,i}(x_{i+1})-f(x_{i+1}) = 0$ substitute $a_{0,i}, a_{2,i}, a_{3,i}$\n",
        "\n",
        "$$f(x_{i+1})=a_{0,i}+a_{1,i}(x_{i+1}-x+i)+a_{2,i}(x_{i+1}-x_i)^2+a_{3,i}(x_{i+1}-x_i)^3$$\n",
        "\n",
        "$$a_{1,i}=\\frac{\\Delta f_i}{h_{i+1}} - \\frac{m_ih_{i+1}}{2} \\frac{\\Delta m_ih_{i+1}}{6}$$\n",
        "\n",
        "$S_{3,i}=S_{3,i-1}$:\n",
        "\n",
        "$$S'_{3,i}(x)=a_{i,1}+2a_{2,i}(x-x_i)+3a_{3,i}(x-x_i)^2$$\n",
        "\n",
        "$$S'_{3,i-1}(x)=a_{1,i-1}+2a_{2,i-1}(x-x_{i-1})+3a_{3,i-1}(x-x_{i-1})^2$$\n",
        "\n",
        "$$S'_{3,i}(x)|_{x=x_i}=S'_{3,i-1}(x)|_{x=x_i}$$\n",
        "\n",
        "Thus, $a_{1,i} = a_{1,i-1}+2a_{2,i-1}h_i+3a_{3,i-1}h_i^2$\n",
        "\n",
        "Consider $x = x_i$, since derivatives intersect in one point($S_{3,i}(x_i)=S_{3,i-1}(x_i)$):\n",
        "\n",
        "$$\\frac{\\Delta f_i}{h_{i+1}} - \\frac{m_in_{i+1}}{3} - \\frac{m_{i+1}n_{i+1}}{6} = \n",
        "\\frac{\\Delta f_{i-1}}{h_i} - \\frac{m_{i-1}n_i}{3} - \\frac{m_in_i}{6} + m_{i-1}h_i + \\frac{m_ih_i}{2} - \\frac{m_{i-1}h_i}{2}$$\n",
        "\n",
        "So as result get this equation,\n",
        "$\\frac{h_i}{6}m_{i-1} + \\frac{h_i+h_{i+1}}{3}m_i + \\frac{h_{i+1}}{6}m_{i+1} =\n",
        " \\frac{\\Delta f_i}{h_{i+1}} - \\frac{\\Delta f_{i-1}}{h_i}$, $i=\\overline{1,n-1}$"
      ]
    },
    {
      "cell_type": "markdown",
      "metadata": {
        "id": "rbTgfVT6CIA0",
        "colab_type": "text"
      },
      "source": [
        "### 6. Create a system of equations using this formula [Matrix representation. Mathematical formulas]"
      ]
    },
    {
      "cell_type": "markdown",
      "metadata": {
        "id": "yF-oSE1hDAA-",
        "colab_type": "text"
      },
      "source": [
        "$\\begin{bmatrix}\n",
        "h_1 & 2(h_1+h_2) & h_2 & 0 & .. & .. & 0\n",
        "\\\\ .. & .. & .. & .. & .. & .. & .. \\\\\n",
        ".. & 0 & h_i & 2(h_i+h_{i+1}) & h_{i+1} & 0 & ..\n",
        "\\\\ .. & .. & .. & .. & .. & .. & .. \\\\\n",
        "0 & .. & .. & 0 & h_{n-1} & 2(h_{n-1}+h_n) & h_n\n",
        "\\end{bmatrix}\n",
        "\\begin{bmatrix}\n",
        "m_0 \\\\ m_1 \\\\ .. \\\\ m_i \\\\ .. \\\\ m_{n-1} \\\\ m_n\n",
        "\\end{bmatrix}\n",
        "=6\n",
        "\\begin{bmatrix}\n",
        "\\frac{\\Delta f_1}{h_2}-\\frac{\\Delta f_0}{h_1}\n",
        "\\\\ .. \\\\\n",
        "\\frac{\\Delta f_i}{h_{i+1}}-\\frac{\\Delta f_{i-1}}{h_i}\n",
        "\\\\ .. \\\\\n",
        "\\frac{\\Delta f_{n-1}}{h_n}-\\frac{\\Delta f_{n-2}}{h_{n-1}}\n",
        "\\end{bmatrix}$"
      ]
    },
    {
      "cell_type": "markdown",
      "metadata": {
        "id": "tCK7gdeqCIA4",
        "colab_type": "text"
      },
      "source": [
        "### 7. Explain what is an unknown variable in this system. whether the system is closed with respect to an unknown variable. What is missing for closure. [Text, no more than 200 characters]"
      ]
    },
    {
      "cell_type": "markdown",
      "metadata": {
        "id": "9OMVMRidJUnI",
        "colab_type": "text"
      },
      "source": [
        "The system has n - 2 unknown variables ($m_i, i = 1..n-1$) and it is not closed with respect to $m_i, i = 0..n$. For closure of the system we may set that second derivitives at the ends equal to 0, so $m_0 = m_n = 0$."
      ]
    },
    {
      "cell_type": "markdown",
      "metadata": {
        "id": "rK20-yVbCIA9",
        "colab_type": "text"
      },
      "source": [
        "### 8. Bring this matrix to the appropriate form to use the Tridiagonal matrix algorithm [Mathematical derivation. Use Gauss Elimination]"
      ]
    },
    {
      "cell_type": "markdown",
      "metadata": {
        "id": "Cw4UuNoAJlkd",
        "colab_type": "text"
      },
      "source": [
        "$\\begin{bmatrix}\n",
        "1 & -P_1 & 0 & 0 & .. & Q_1 \\\\\n",
        "0 & 1 & -P_2 & 0 & .. & Q_2 \\\\\n",
        "0 & 0 & 1 & -P_3 & .. & Q_3 \\\\\n",
        ".. & .. & .. & .. & .. & .. \\\\\n",
        "0 & 0 & 0 & 1 & .. & Q_{n-1} \n",
        "\\end{bmatrix}$\n",
        "\n",
        "where\n",
        "\n",
        "$P_i=\\frac{h_{i+1}}{-2(h_{i+1}+h_i)-h_iP_{i-1}}$\n",
        "\n",
        "$Q_i=\\frac{h_iQ_{i-1}-6(\\frac{\\Delta f_i}{h_{i+1}}-\\frac{\\Delta f_{i-1}}{h_i})}{-2(h_{i+1}+h_i)-h_iP_{i-1}}$\n",
        "\n",
        "and thus\n",
        "\n",
        "$P_1=\\frac{h_2}{-2(h_2+h_1)}$\n",
        "\n",
        "$Q_1=\\frac{6(\\frac{\\Delta f_1}{h_2}-\\frac{\\Delta f_0}{h_1})}{2(h_2+h_1)}$\n",
        "\n",
        "And as result we get matrix:\n",
        "\n",
        "$\\begin{bmatrix}\n",
        "2(h_1+h_2) & h_2 & 0 & .. & 0 & 6(\\frac{\\Delta f_1}{h_2}-\\frac{\\Delta f_0}{h_1})\n",
        "\\\\ .. & .. & .. & .. & .. & .. \\\\\n",
        "0..0 & h_i & 2(h_i+h_{i+1}) & h_{i+1} & 0..0 & 6(\\frac{\\Delta f_i}{h_{i+1}}-\\frac{\\Delta f_{i-1}}{h_i})\n",
        "\\\\ .. & .. & .. & .. & .. & .. \\\\\n",
        "0 & .. & 0 & h_{n-1} & 2(h_{n-1}+h_n) & 6(\\frac{\\Delta f_{n-1}}{h_n}-\\frac{\\Delta f_{n-2}}{h_{n-1}})\n",
        "\\end{bmatrix}$\n"
      ]
    },
    {
      "cell_type": "markdown",
      "metadata": {
        "id": "6gFQrh_iCIBA",
        "colab_type": "text"
      },
      "source": [
        "### 9. Derive formulas of direct pass and reverse pass of Tridiagonal matrix algorithm [Mathematical formals]"
      ]
    },
    {
      "cell_type": "markdown",
      "metadata": {
        "id": "bQQVkDToMxOi",
        "colab_type": "text"
      },
      "source": [
        "Forward pass:\n",
        "\n",
        "$P_i = \\frac{h_{i+1}}{- 2(h_{i+1} + h_i) - h_{i}P_{i-1}}, P_1 = -\\frac{h_2}{2(h_2+h_1)}$\n",
        "\n",
        "$Q_i = \\frac{\\frac{h_i}{6}Q_{i-1} - \\frac{\\Delta f_i}{h_{i+1}} + \\frac{\\Delta f_{i-1}}{h_{i}}}{\\frac{h_{i+1} + h_i}{3} - \\frac{h_i}{6}P_{i-1}}, Q_1 = \\frac{3(\\frac{\\Delta f_1}{h_{2}} - \\frac{\\Delta f_{0}}{h_{1}})}{h_{2} + h_1}$\n",
        "\n",
        "Backward pass:\n",
        "\n",
        "$x_n = \\frac{\\frac{h_n}{6}Q_{n-1} - \\frac{\\Delta f_n}{h_{n+1}} + \\frac{\\Delta f_{n-1}}{h_{n}}}{\\frac{h_{n+1} + h_n}{3} - \\frac{h_n}{6}P_{n-1}}$\n",
        "\n",
        "$x_i = \\frac{h_{i+1}}{- 2(h_{i+1} + h_i) - h_{i}P_{i-1}} x_{i+1} + \\frac{\\frac{h_i}{6}Q_{i-1} - \\frac{\\Delta f_i}{h_{i+1}} + \\frac{\\Delta f_{i-1}}{h_{i}}}{\\frac{h_{i+1} + h_i}{3} - \\frac{h_i}{6}P_{i-1}}$"
      ]
    },
    {
      "cell_type": "markdown",
      "metadata": {
        "id": "ExS7WvYXCIBD",
        "colab_type": "text"
      },
      "source": [
        "### 10. Implement code prototype of the future algorithm implementation. Classes/methods (if you use OOP), functions. The final implementation (on language chosen by you) should not differ from the functions declared in the prototype. [Python code]"
      ]
    },
    {
      "cell_type": "code",
      "metadata": {
        "id": "giqIXV22ZLjY",
        "colab_type": "code",
        "colab": {}
      },
      "source": [
        "def forward_back_pass(a, b, n):\n",
        "  pass\n",
        "\n",
        "def spline(x, f, n):\n",
        "  pass\n",
        "\n",
        "def main():\n",
        "  pass"
      ],
      "execution_count": 0,
      "outputs": []
    },
    {
      "cell_type": "markdown",
      "metadata": {
        "id": "x84LW3q_CIBG",
        "colab_type": "text"
      },
      "source": [
        "### 11. Derive formula of Cubic Spline method error [Mathematical formulas]"
      ]
    },
    {
      "cell_type": "markdown",
      "metadata": {
        "id": "jfMsHlvoMx5P",
        "colab_type": "text"
      },
      "source": [
        "Cubic spline error: $max|f^p - S_3^p| \\leqslant \\mu_4 h^{4-p}$ which holds only if function $f$ is 4 times defferentiable"
      ]
    },
    {
      "cell_type": "markdown",
      "metadata": {
        "id": "CbdwQzr_CIBI",
        "colab_type": "text"
      },
      "source": [
        "### 12. Rate the complexity of the algorithm [Text, and rate in terms of big O, no more than 100 characters]"
      ]
    },
    {
      "cell_type": "markdown",
      "metadata": {
        "id": "In0c-ixjMycn",
        "colab_type": "text"
      },
      "source": [
        "Forward pass complexity - $O(n)$\n",
        "\n",
        "Backward pass complexity - $O(n)$\n",
        "\n",
        "Final complexity - $O(2n)$ -> $O(n)$"
      ]
    },
    {
      "cell_type": "markdown",
      "metadata": {
        "id": "s-h2CpYvCIBO",
        "colab_type": "text"
      },
      "source": [
        "### Congrats!"
      ]
    }
  ]
}